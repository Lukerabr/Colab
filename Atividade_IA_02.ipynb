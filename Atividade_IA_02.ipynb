{
  "nbformat": 4,
  "nbformat_minor": 0,
  "metadata": {
    "colab": {
      "name": "Atividade_IA_02.ipynb",
      "provenance": [],
      "collapsed_sections": [],
      "mount_file_id": "1690kWVGBYP0svGI1dWOTh5TE3JKfVq-K",
      "authorship_tag": "ABX9TyPAygvNDzz5H6bLeHo+8VK/",
      "include_colab_link": true
    },
    "kernelspec": {
      "name": "python3",
      "display_name": "Python 3"
    },
    "language_info": {
      "name": "python"
    }
  },
  "cells": [
    {
      "cell_type": "markdown",
      "metadata": {
        "id": "view-in-github",
        "colab_type": "text"
      },
      "source": [
        "<a href=\"https://colab.research.google.com/github/Lukerabr/Colab/blob/main/Atividade_IA_02.ipynb\" target=\"_parent\"><img src=\"https://colab.research.google.com/assets/colab-badge.svg\" alt=\"Open In Colab\"/></a>"
      ]
    },
    {
      "cell_type": "code",
      "metadata": {
        "id": "lQJl6g_pYGMw",
        "colab": {
          "base_uri": "https://localhost:8080/"
        },
        "outputId": "8a7a3f2e-fbf1-4a8c-ab51-02cbe597a57e"
      },
      "source": [
        "import math\n",
        "import sklearn\n",
        "import pandas\n",
        "import numpy as np\n",
        "from sklearn.neighbors import KNeighborsClassifier\n",
        "from sklearn.model_selection import train_test_split\n",
        "from sklearn.metrics import accuracy_score, classification_report, confusion_matrix \n",
        "from google.colab import drive\n",
        "\n",
        "dadosWifi = pandas.read_csv('/content/drive/MyDrive/Colab Notebooks/Dados_WIFI.csv')                          \n",
        "\n",
        "# describe me retorna média, desvio padrão, valor minimo e máximo.\n",
        "#dadosWifi.describe()\n",
        "\n",
        "# 'atributos' recebendo os atributos e 'classe' recebendo a classe (rótulo).\n",
        "atributosWifi = dadosWifi[['1F80_Oi_Fibra_5G', '1F80_Oi_Fibra_2.4G', 'CLARO_2G46A5B9', 'VIVO-68F0']].values\n",
        "\n",
        "# quarto com modem = 1, varanda fundo = 2, cozinha = 3, quarto mãe = 4, sala = 5, varanda frente = 6, quarto vô = 7, edicula fundo = 8, oficina = 9.\n",
        "classeWifi = dadosWifi[['Classe']].values\n",
        "\n",
        "\n",
        "#atributosWifi.mean(axis=0) #array([88.49019608, 86.80392157, 58.09803922, 45.66666667])\n",
        "#atributosWifi.std(axis=0) #array([16.27023331, 12.61499203, 32.79422169, 32.33626427])\n",
        "\n",
        "# normalização dos dados \n",
        "atributosWifinormalizados = (atributosWifi - atributosWifi.mean(axis=0)) / atributosWifi.std(axis=0)\n",
        "\n",
        "#atributosWifinormalizados.mean(axis=0) #array([ 3.13474736e-16,  5.26811710e-16, -1.04491579e-16,  7.83686841e-17])\n",
        "#atributosWifinormalizados.std(axis=0) #array([1., 1., 1., 1.])\n",
        "\n",
        "# Separação dos conjuntos treino, validação e teste, 70%, 15% e 15%, respectivamente.\n",
        "\n",
        "train_ratio = 0.70\n",
        "validation_ratio = 0.15\n",
        "test_ratio = 0.15\n",
        "\n",
        "# separando treino com 70% do dataset total\n",
        "x_train, x_test, y_train, y_test = train_test_split(atributosWifinormalizados, classeWifi, test_size=1 - train_ratio)\n",
        "\n",
        "# separando 15% para validação e teste\n",
        "x_val, x_test, y_val, y_test = train_test_split(x_test, y_test, test_size=test_ratio/(test_ratio + validation_ratio)) \n",
        "\n",
        "# print para conferência\n",
        "#print(x_train, x_val, x_test)\n",
        "\n",
        "model = KNeighborsClassifier(n_neighbors=3)\n",
        "# knn 3 vizinhos array([4, 7, 3, 7, 5, 5, 2, 4])\n",
        "# knn 4 vizinhos array([1, 4, 2, 2, 1, 5, 7, 8])\n",
        "# knn 5 vizinhos array([3, 7, 7, 7, 1, 4, 3, 3])\n",
        "\n",
        "model.fit(x_train, np.ravel(y_train))\n",
        "\n",
        "predicao_modelo = model.predict(x_test)\n",
        "\n",
        "print(accuracy_score(y_test, predicao_modelo))\n",
        "print(confusion_matrix(y_test, predicao_modelo))  \n",
        "print(classification_report(y_test, predicao_modelo))\n"
      ],
      "execution_count": null,
      "outputs": [
        {
          "output_type": "stream",
          "text": [
            "0.625\n",
            "[[1 2 0 0 0]\n",
            " [0 0 0 0 0]\n",
            " [0 0 2 0 0]\n",
            " [0 0 1 0 0]\n",
            " [0 0 0 0 2]]\n",
            "              precision    recall  f1-score   support\n",
            "\n",
            "           1       1.00      0.33      0.50         3\n",
            "           2       0.00      0.00      0.00         0\n",
            "           5       0.67      1.00      0.80         2\n",
            "           7       0.00      0.00      0.00         1\n",
            "           8       1.00      1.00      1.00         2\n",
            "\n",
            "    accuracy                           0.62         8\n",
            "   macro avg       0.53      0.47      0.46         8\n",
            "weighted avg       0.79      0.62      0.64         8\n",
            "\n"
          ],
          "name": "stdout"
        },
        {
          "output_type": "stream",
          "text": [
            "/usr/local/lib/python3.7/dist-packages/sklearn/metrics/_classification.py:1272: UndefinedMetricWarning: Precision and F-score are ill-defined and being set to 0.0 in labels with no predicted samples. Use `zero_division` parameter to control this behavior.\n",
            "  _warn_prf(average, modifier, msg_start, len(result))\n",
            "/usr/local/lib/python3.7/dist-packages/sklearn/metrics/_classification.py:1272: UndefinedMetricWarning: Recall and F-score are ill-defined and being set to 0.0 in labels with no true samples. Use `zero_division` parameter to control this behavior.\n",
            "  _warn_prf(average, modifier, msg_start, len(result))\n"
          ],
          "name": "stderr"
        }
      ]
    }
  ]
}