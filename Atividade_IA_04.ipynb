{
  "nbformat": 4,
  "nbformat_minor": 0,
  "metadata": {
    "colab": {
      "name": "Trabalho_04.ipynb",
      "provenance": [],
      "collapsed_sections": [],
      "mount_file_id": "1qz0RXuP0b0nhlpOlXpLsKAAxAJtw_Hts",
      "authorship_tag": "ABX9TyMbNgNG3KYZv9vrIybn175R",
      "include_colab_link": true
    },
    "kernelspec": {
      "name": "python3",
      "display_name": "Python 3"
    },
    "language_info": {
      "name": "python"
    }
  },
  "cells": [
    {
      "cell_type": "markdown",
      "metadata": {
        "id": "view-in-github",
        "colab_type": "text"
      },
      "source": [
        "<a href=\"https://colab.research.google.com/github/Lukerabr/Colab/blob/main/Atividade_IA_04.ipynb\" target=\"_parent\"><img src=\"https://colab.research.google.com/assets/colab-badge.svg\" alt=\"Open In Colab\"/></a>"
      ]
    },
    {
      "cell_type": "code",
      "metadata": {
        "id": "ZIPvW4_TJzE0"
      },
      "source": [
        "import numpy as np\n",
        "import pandas as pd\n",
        "from matplotlib import pyplot as plt"
      ],
      "execution_count": null,
      "outputs": []
    },
    {
      "cell_type": "code",
      "metadata": {
        "id": "0rLifwjIRMOQ"
      },
      "source": [
        "#leitura dos dados\n",
        "data = pd.read_csv('/content/drive/MyDrive/Colab Notebooks/MLP/train.csv')"
      ],
      "execution_count": null,
      "outputs": []
    },
    {
      "cell_type": "code",
      "metadata": {
        "id": "Eq-a3v9ARee-"
      },
      "source": [
        "#separar os dados\n",
        "data = np.array(data)\n",
        "m, n = data.shape\n",
        "np.random.shuffle(data)\n",
        "\n",
        "data_teste = data[0:1000].T\n",
        "Y_test = data_teste[0]\n",
        "X_test = data_teste[1:n]\n",
        "X_test = X_test / 255.\n",
        "\n",
        "data_train = data[1000:m].T\n",
        "Y_train = data_train[0]\n",
        "X_train = data_train[1:n]\n",
        "X_train = X_train / 255.\n",
        "_,m_train = X_train.shape"
      ],
      "execution_count": null,
      "outputs": []
    },
    {
      "cell_type": "code",
      "metadata": {
        "id": "6aBkScgySrGG"
      },
      "source": [
        "#parametros iniciais de maneira randomica\n",
        "def init_params():\n",
        "    peso1 = np.random.rand(10, 784) - 0.5\n",
        "    bias1 = np.random.rand(10, 1) - 0.5\n",
        "    peso2 = np.random.rand(10, 10) - 0.5\n",
        "    bias2 = np.random.rand(10, 1) - 0.5\n",
        "    return peso1, bias1, peso2, bias2\n",
        "\n",
        "#função ReLU\n",
        "def ReLU(Z):\n",
        "    return np.maximum(Z, 0)\n",
        "\n",
        "#função softmax\n",
        "def softmax(Z):\n",
        "    A = np.exp(Z) / sum(np.exp(Z))\n",
        "    return A\n",
        "\n",
        "#propagação para frente    \n",
        "def forward_prop(peso1, bias1, peso2, bias2, X):\n",
        "    Z1 = peso1.dot(X) + bias1\n",
        "    A1 = ReLU(Z1)\n",
        "    Z2 = peso2.dot(A1) + bias2\n",
        "    A2 = softmax(Z2)\n",
        "    return Z1, A1, Z2, A2\n",
        "\n",
        "#derivada da ReLU\n",
        "def ReLU_deriv(Z):\n",
        "    return Z > 0\n",
        "\n",
        "#função one_hot\n",
        "def one_hot(Y):\n",
        "    one_hot_Y = np.zeros((Y.size, Y.max() + 1))\n",
        "    one_hot_Y[np.arange(Y.size), Y] = 1\n",
        "    one_hot_Y = one_hot_Y.T\n",
        "    return one_hot_Y\n",
        "\n",
        "#propagação de volta\n",
        "def backward_prop(Z1, A1, Z2, A2, peso1, peso2, X, Y):\n",
        "    one_hot_Y = one_hot(Y)\n",
        "    dZ2 = A2 - one_hot_Y\n",
        "    derivada_peso2 = 1 / m * dZ2.dot(A1.T)\n",
        "    derivada_bias2 = 1 / m * np.sum(dZ2)\n",
        "    dZ1 = peso2.T.dot(dZ2) * ReLU_deriv(Z1)\n",
        "    derivada_peso1 = 1 / m * dZ1.dot(X.T)\n",
        "    derivada_bias1 = 1 / m * np.sum(dZ1)\n",
        "    return derivada_peso1, derivada_bias1, derivada_peso2, derivada_bias2\n",
        "\n",
        "#função para atualizar os parametros para encontrar o melhor conjunto\n",
        "def update_params(peso1, bias1, peso2, bias2, derivada_peso1, derivada_bias1, derivada_peso2, derivada_bias2, alpha):\n",
        "    peso1 = peso1 - alpha * derivada_peso1\n",
        "    bias1 = bias1 - alpha * derivada_bias1    \n",
        "    peso2 = peso2 - alpha * derivada_peso2  \n",
        "    bias2 = bias2 - alpha * derivada_bias2    \n",
        "    return peso1, bias1, peso2, bias2"
      ],
      "execution_count": null,
      "outputs": []
    },
    {
      "cell_type": "code",
      "metadata": {
        "id": "o_ej7lBOZrwz"
      },
      "source": [
        "#predição\n",
        "def get_predicao(A2):\n",
        "    return np.argmax(A2, 0)\n",
        "\n",
        "#acurácia\n",
        "def accuracy(predicao, Y):\n",
        "    #print(predicao, Y)\n",
        "    return np.sum(predicao == Y) / Y.size\n",
        "\n",
        "#função gradiente, e também função para iterar e atualizar os parametros\n",
        "def gradient_descent(X, Y, alpha, iterations):\n",
        "    peso1, bias1, peso2, bias2 = init_params()\n",
        "    for i in range(iterations):\n",
        "        Z1, A1, Z2, A2 = forward_prop(peso1, bias1, peso2, bias2, X)\n",
        "        derivada_peso1, derivada_bias1, derivada_peso2, derivada_bias2 = backward_prop(Z1, A1, Z2, A2, peso1, peso2, X, Y)\n",
        "        peso1, bias1, peso2, bias2 = update_params(peso1, bias1, peso2, bias2, derivada_peso1, derivada_bias1, derivada_peso2, derivada_bias2, alpha)\n",
        "        if i % 2 == 0:\n",
        "            print(\"Iteração: \", i)\n",
        "            predicao = get_predicao(A2)\n",
        "            print(accuracy(predicao, Y))\n",
        "    return peso1, bias1, peso2, bias2"
      ],
      "execution_count": null,
      "outputs": []
    },
    {
      "cell_type": "code",
      "metadata": {
        "id": "mfbxphXXaJv7",
        "colab": {
          "base_uri": "https://localhost:8080/"
        },
        "outputId": "1997f273-33f9-4604-e52b-37c58acbbb39"
      },
      "source": [
        "#função gradiente sendo chamada e passando alfa = 0.6 e quantidade de iterações = 500\n",
        "#PODE DEMORAR UM POUCO\n",
        "peso1, bias1, peso2, bias2 = gradient_descent(X_train, Y_train, 0.6, 500)"
      ],
      "execution_count": null,
      "outputs": [
        {
          "output_type": "stream",
          "text": [
            "Iteração:  0\n",
            "0.11682926829268293\n",
            "Iteração:  2\n",
            "0.07831707317073171\n",
            "Iteração:  4\n",
            "0.08578048780487806\n",
            "Iteração:  6\n",
            "0.10178048780487804\n",
            "Iteração:  8\n",
            "0.12863414634146342\n",
            "Iteração:  10\n",
            "0.15778048780487805\n",
            "Iteração:  12\n",
            "0.18460975609756097\n",
            "Iteração:  14\n",
            "0.20858536585365853\n",
            "Iteração:  16\n",
            "0.22885365853658537\n",
            "Iteração:  18\n",
            "0.24697560975609756\n",
            "Iteração:  20\n",
            "0.2628780487804878\n",
            "Iteração:  22\n",
            "0.2898292682926829\n",
            "Iteração:  24\n",
            "0.3169512195121951\n",
            "Iteração:  26\n",
            "0.3433658536585366\n",
            "Iteração:  28\n",
            "0.3660731707317073\n",
            "Iteração:  30\n",
            "0.38370731707317074\n",
            "Iteração:  32\n",
            "0.3980975609756098\n",
            "Iteração:  34\n",
            "0.4144390243902439\n",
            "Iteração:  36\n",
            "0.4292682926829268\n",
            "Iteração:  38\n",
            "0.44597560975609757\n",
            "Iteração:  40\n",
            "0.4624878048780488\n",
            "Iteração:  42\n",
            "0.48253658536585364\n",
            "Iteração:  44\n",
            "0.5026585365853659\n",
            "Iteração:  46\n",
            "0.5214390243902439\n",
            "Iteração:  48\n",
            "0.5328536585365854\n",
            "Iteração:  50\n",
            "0.43085365853658536\n",
            "Iteração:  52\n",
            "0.4071463414634146\n",
            "Iteração:  54\n",
            "0.564390243902439\n",
            "Iteração:  56\n",
            "0.620780487804878\n",
            "Iteração:  58\n",
            "0.6401463414634146\n",
            "Iteração:  60\n",
            "0.6271707317073171\n",
            "Iteração:  62\n",
            "0.6408536585365854\n",
            "Iteração:  64\n",
            "0.6477073170731708\n",
            "Iteração:  66\n",
            "0.6358536585365854\n",
            "Iteração:  68\n",
            "0.6453170731707317\n",
            "Iteração:  70\n",
            "0.6585365853658537\n",
            "Iteração:  72\n",
            "0.673\n",
            "Iteração:  74\n",
            "0.6878048780487804\n",
            "Iteração:  76\n",
            "0.6953170731707317\n",
            "Iteração:  78\n",
            "0.703170731707317\n",
            "Iteração:  80\n",
            "0.711170731707317\n",
            "Iteração:  82\n",
            "0.7190731707317073\n",
            "Iteração:  84\n",
            "0.7259268292682927\n",
            "Iteração:  86\n",
            "0.7328536585365854\n",
            "Iteração:  88\n",
            "0.7343414634146341\n",
            "Iteração:  90\n",
            "0.7225609756097561\n",
            "Iteração:  92\n",
            "0.7086829268292683\n",
            "Iteração:  94\n",
            "0.7169756097560975\n",
            "Iteração:  96\n",
            "0.7376341463414634\n",
            "Iteração:  98\n",
            "0.756390243902439\n",
            "Iteração:  100\n",
            "0.770390243902439\n",
            "Iteração:  102\n",
            "0.7761219512195122\n",
            "Iteração:  104\n",
            "0.7771951219512195\n",
            "Iteração:  106\n",
            "0.7759268292682927\n",
            "Iteração:  108\n",
            "0.7754146341463415\n",
            "Iteração:  110\n",
            "0.7784634146341464\n",
            "Iteração:  112\n",
            "0.7839512195121952\n",
            "Iteração:  114\n",
            "0.7909024390243903\n",
            "Iteração:  116\n",
            "0.7972926829268293\n",
            "Iteração:  118\n",
            "0.8017317073170732\n",
            "Iteração:  120\n",
            "0.8043170731707318\n",
            "Iteração:  122\n",
            "0.8060731707317074\n",
            "Iteração:  124\n",
            "0.8074146341463415\n",
            "Iteração:  126\n",
            "0.8078780487804879\n",
            "Iteração:  128\n",
            "0.8095853658536586\n",
            "Iteração:  130\n",
            "0.8111219512195122\n",
            "Iteração:  132\n",
            "0.8134146341463414\n",
            "Iteração:  134\n",
            "0.8143414634146341\n",
            "Iteração:  136\n",
            "0.815170731707317\n",
            "Iteração:  138\n",
            "0.814\n",
            "Iteração:  140\n",
            "0.8148780487804878\n",
            "Iteração:  142\n",
            "0.817170731707317\n",
            "Iteração:  144\n",
            "0.82\n",
            "Iteração:  146\n",
            "0.8228292682926829\n",
            "Iteração:  148\n",
            "0.8253414634146341\n",
            "Iteração:  150\n",
            "0.8273658536585365\n",
            "Iteração:  152\n",
            "0.8289024390243902\n",
            "Iteração:  154\n",
            "0.8299756097560975\n",
            "Iteração:  156\n",
            "0.8310975609756097\n",
            "Iteração:  158\n",
            "0.8320975609756097\n",
            "Iteração:  160\n",
            "0.8335853658536585\n",
            "Iteração:  162\n",
            "0.835\n",
            "Iteração:  164\n",
            "0.8364634146341463\n",
            "Iteração:  166\n",
            "0.837780487804878\n",
            "Iteração:  168\n",
            "0.8390731707317073\n",
            "Iteração:  170\n",
            "0.8408780487804878\n",
            "Iteração:  172\n",
            "0.8421463414634146\n",
            "Iteração:  174\n",
            "0.8425609756097561\n",
            "Iteração:  176\n",
            "0.8429268292682927\n",
            "Iteração:  178\n",
            "0.8438780487804878\n",
            "Iteração:  180\n",
            "0.8447073170731707\n",
            "Iteração:  182\n",
            "0.8458048780487805\n",
            "Iteração:  184\n",
            "0.8467560975609756\n",
            "Iteração:  186\n",
            "0.8473170731707317\n",
            "Iteração:  188\n",
            "0.8480487804878049\n",
            "Iteração:  190\n",
            "0.8485853658536585\n",
            "Iteração:  192\n",
            "0.8496829268292683\n",
            "Iteração:  194\n",
            "0.8504390243902439\n",
            "Iteração:  196\n",
            "0.8511463414634146\n",
            "Iteração:  198\n",
            "0.8516341463414634\n",
            "Iteração:  200\n",
            "0.8524390243902439\n",
            "Iteração:  202\n",
            "0.8530731707317073\n",
            "Iteração:  204\n",
            "0.8537560975609756\n",
            "Iteração:  206\n",
            "0.8543658536585366\n",
            "Iteração:  208\n",
            "0.8550487804878049\n",
            "Iteração:  210\n",
            "0.8557317073170732\n",
            "Iteração:  212\n",
            "0.8563658536585366\n",
            "Iteração:  214\n",
            "0.8570243902439024\n",
            "Iteração:  216\n",
            "0.857609756097561\n",
            "Iteração:  218\n",
            "0.8582195121951219\n",
            "Iteração:  220\n",
            "0.8589024390243902\n",
            "Iteração:  222\n",
            "0.8593170731707317\n",
            "Iteração:  224\n",
            "0.8596829268292683\n",
            "Iteração:  226\n",
            "0.8602926829268293\n",
            "Iteração:  228\n",
            "0.8607073170731707\n",
            "Iteração:  230\n",
            "0.8612926829268293\n",
            "Iteração:  232\n",
            "0.8616829268292683\n",
            "Iteração:  234\n",
            "0.8620243902439024\n",
            "Iteração:  236\n",
            "0.862780487804878\n",
            "Iteração:  238\n",
            "0.8631463414634146\n",
            "Iteração:  240\n",
            "0.8638048780487805\n",
            "Iteração:  242\n",
            "0.8644390243902439\n",
            "Iteração:  244\n",
            "0.8649268292682927\n",
            "Iteração:  246\n",
            "0.8655365853658537\n",
            "Iteração:  248\n",
            "0.8661463414634146\n",
            "Iteração:  250\n",
            "0.8666829268292683\n",
            "Iteração:  252\n",
            "0.867\n",
            "Iteração:  254\n",
            "0.8674878048780488\n",
            "Iteração:  256\n",
            "0.868\n",
            "Iteração:  258\n",
            "0.8682682926829268\n",
            "Iteração:  260\n",
            "0.868780487804878\n",
            "Iteração:  262\n",
            "0.8692682926829268\n",
            "Iteração:  264\n",
            "0.8694634146341463\n",
            "Iteração:  266\n",
            "0.8698780487804878\n",
            "Iteração:  268\n",
            "0.8703414634146341\n",
            "Iteração:  270\n",
            "0.870780487804878\n",
            "Iteração:  272\n",
            "0.8710731707317073\n",
            "Iteração:  274\n",
            "0.871390243902439\n",
            "Iteração:  276\n",
            "0.8717073170731707\n",
            "Iteração:  278\n",
            "0.8721219512195122\n",
            "Iteração:  280\n",
            "0.8724878048780488\n",
            "Iteração:  282\n",
            "0.8727317073170732\n",
            "Iteração:  284\n",
            "0.873\n",
            "Iteração:  286\n",
            "0.8733170731707317\n",
            "Iteração:  288\n",
            "0.8739512195121951\n",
            "Iteração:  290\n",
            "0.8744878048780488\n",
            "Iteração:  292\n",
            "0.8748780487804878\n",
            "Iteração:  294\n",
            "0.8752926829268293\n",
            "Iteração:  296\n",
            "0.8756585365853659\n",
            "Iteração:  298\n",
            "0.876\n",
            "Iteração:  300\n",
            "0.8763658536585366\n",
            "Iteração:  302\n",
            "0.8768780487804878\n",
            "Iteração:  304\n",
            "0.8771463414634146\n",
            "Iteração:  306\n",
            "0.8778048780487805\n",
            "Iteração:  308\n",
            "0.8782926829268293\n",
            "Iteração:  310\n",
            "0.8785853658536585\n",
            "Iteração:  312\n",
            "0.8788536585365854\n",
            "Iteração:  314\n",
            "0.879390243902439\n",
            "Iteração:  316\n",
            "0.8797317073170732\n",
            "Iteração:  318\n",
            "0.8801951219512195\n",
            "Iteração:  320\n",
            "0.8804878048780488\n",
            "Iteração:  322\n",
            "0.8808292682926829\n",
            "Iteração:  324\n",
            "0.8814390243902439\n",
            "Iteração:  326\n",
            "0.8816829268292683\n",
            "Iteração:  328\n",
            "0.8819268292682927\n",
            "Iteração:  330\n",
            "0.882219512195122\n",
            "Iteração:  332\n",
            "0.8826585365853659\n",
            "Iteração:  334\n",
            "0.8829512195121951\n",
            "Iteração:  336\n",
            "0.8832439024390244\n",
            "Iteração:  338\n",
            "0.8835365853658537\n",
            "Iteração:  340\n",
            "0.8837560975609756\n",
            "Iteração:  342\n",
            "0.884\n",
            "Iteração:  344\n",
            "0.8843170731707317\n",
            "Iteração:  346\n",
            "0.8846341463414634\n",
            "Iteração:  348\n",
            "0.8848292682926829\n",
            "Iteração:  350\n",
            "0.8852682926829268\n",
            "Iteração:  352\n",
            "0.8854634146341464\n",
            "Iteração:  354\n",
            "0.8856585365853659\n",
            "Iteração:  356\n",
            "0.8860487804878049\n",
            "Iteração:  358\n",
            "0.8865853658536585\n",
            "Iteração:  360\n",
            "0.8868048780487805\n",
            "Iteração:  362\n",
            "0.8871219512195122\n",
            "Iteração:  364\n",
            "0.8873414634146342\n",
            "Iteração:  366\n",
            "0.8877804878048781\n",
            "Iteração:  368\n",
            "0.8878780487804878\n",
            "Iteração:  370\n",
            "0.8880975609756098\n",
            "Iteração:  372\n",
            "0.8883414634146342\n",
            "Iteração:  374\n",
            "0.8886829268292683\n",
            "Iteração:  376\n",
            "0.8889268292682927\n",
            "Iteração:  378\n",
            "0.8890487804878049\n",
            "Iteração:  380\n",
            "0.8891463414634146\n",
            "Iteração:  382\n",
            "0.8893170731707317\n",
            "Iteração:  384\n",
            "0.8895121951219512\n",
            "Iteração:  386\n",
            "0.8899024390243903\n",
            "Iteração:  388\n",
            "0.8902439024390244\n",
            "Iteração:  390\n",
            "0.890390243902439\n",
            "Iteração:  392\n",
            "0.8906829268292683\n",
            "Iteração:  394\n",
            "0.8909268292682927\n",
            "Iteração:  396\n",
            "0.8912682926829268\n",
            "Iteração:  398\n",
            "0.8914146341463415\n",
            "Iteração:  400\n",
            "0.8917804878048781\n",
            "Iteração:  402\n",
            "0.8919756097560976\n",
            "Iteração:  404\n",
            "0.8922439024390244\n",
            "Iteração:  406\n",
            "0.8924390243902439\n",
            "Iteração:  408\n",
            "0.8928292682926829\n",
            "Iteração:  410\n",
            "0.8929024390243903\n",
            "Iteração:  412\n",
            "0.8931463414634147\n",
            "Iteração:  414\n",
            "0.893219512195122\n",
            "Iteração:  416\n",
            "0.893390243902439\n",
            "Iteração:  418\n",
            "0.8937073170731707\n",
            "Iteração:  420\n",
            "0.894\n",
            "Iteração:  422\n",
            "0.8940731707317073\n",
            "Iteração:  424\n",
            "0.8941707317073171\n",
            "Iteração:  426\n",
            "0.8942682926829268\n",
            "Iteração:  428\n",
            "0.8945853658536586\n",
            "Iteração:  430\n",
            "0.8949024390243903\n",
            "Iteração:  432\n",
            "0.8949756097560976\n",
            "Iteração:  434\n",
            "0.8951707317073171\n",
            "Iteração:  436\n",
            "0.8953658536585366\n",
            "Iteração:  438\n",
            "0.8955609756097561\n",
            "Iteração:  440\n",
            "0.8955853658536586\n",
            "Iteração:  442\n",
            "0.8956829268292683\n",
            "Iteração:  444\n",
            "0.896\n",
            "Iteração:  446\n",
            "0.8960975609756098\n",
            "Iteração:  448\n",
            "0.8963170731707317\n",
            "Iteração:  450\n",
            "0.8965853658536586\n",
            "Iteração:  452\n",
            "0.896829268292683\n",
            "Iteração:  454\n",
            "0.8968536585365854\n",
            "Iteração:  456\n",
            "0.897\n",
            "Iteração:  458\n",
            "0.8971463414634147\n",
            "Iteração:  460\n",
            "0.8973658536585366\n",
            "Iteração:  462\n",
            "0.8974878048780488\n",
            "Iteração:  464\n",
            "0.8976341463414634\n",
            "Iteração:  466\n",
            "0.8978048780487805\n",
            "Iteração:  468\n",
            "0.8980243902439025\n",
            "Iteração:  470\n",
            "0.898219512195122\n",
            "Iteração:  472\n",
            "0.8985121951219512\n",
            "Iteração:  474\n",
            "0.8988536585365854\n",
            "Iteração:  476\n",
            "0.8991463414634147\n",
            "Iteração:  478\n",
            "0.8993170731707317\n",
            "Iteração:  480\n",
            "0.8996341463414634\n",
            "Iteração:  482\n",
            "0.8998536585365854\n",
            "Iteração:  484\n",
            "0.8999756097560976\n",
            "Iteração:  486\n",
            "0.9001463414634147\n",
            "Iteração:  488\n",
            "0.9000975609756098\n",
            "Iteração:  490\n",
            "0.9002439024390244\n",
            "Iteração:  492\n",
            "0.9001707317073171\n",
            "Iteração:  494\n",
            "0.9000731707317073\n",
            "Iteração:  496\n",
            "0.9001463414634147\n",
            "Iteração:  498\n",
            "0.9000731707317073\n"
          ],
          "name": "stdout"
        }
      ]
    },
    {
      "cell_type": "code",
      "metadata": {
        "id": "NdCzrYZ0JEv4"
      },
      "source": [
        "#teste com os pesos e bias atualizados para melhor rendimento depois das iterações\n",
        "def teste_real(X, peso1, bias1, peso2, bias2):\n",
        "    _, _, _, A2 = forward_prop(peso1, bias1, peso2, bias2, X)\n",
        "    predicao = get_predicao(A2)\n",
        "    return predicao"
      ],
      "execution_count": null,
      "outputs": []
    },
    {
      "cell_type": "code",
      "metadata": {
        "colab": {
          "base_uri": "https://localhost:8080/"
        },
        "id": "ydC_l7KkJoJi",
        "outputId": "c9599e28-0350-433b-c1f0-5288b9632932"
      },
      "source": [
        "#acurácia com os parametros atualizados\n",
        "predicao_teste = teste_real(X_test, peso1, bias1, peso2, bias2)\n",
        "accuracy(predicao_teste, Y_test)"
      ],
      "execution_count": null,
      "outputs": [
        {
          "output_type": "execute_result",
          "data": {
            "text/plain": [
              "0.892"
            ]
          },
          "metadata": {
            "tags": []
          },
          "execution_count": 8
        }
      ]
    },
    {
      "cell_type": "code",
      "metadata": {
        "id": "j3sbMdF4oTCp"
      },
      "source": [
        "#teste nas amostragens\n",
        "#separar os conjuntos de teste\n",
        "\n",
        "#Conjunto 01\n",
        "data_1 = np.array(data)\n",
        "m, n = data_1.shape\n",
        "np.random.shuffle(data_1)\n",
        "\n",
        "data_teste_1 = data_1[0:1000].T\n",
        "Y_test_1 = data_teste_1[0]\n",
        "X_test_1 = data_teste_1[1:n]\n",
        "X_test_1 = X_test_1 / 255.\n",
        "\n",
        "###################################\n",
        "\n",
        "#Conjunto 02\n",
        "data_2 = np.array(data)\n",
        "m, n = data_2.shape\n",
        "np.random.shuffle(data_2)\n",
        "\n",
        "data_teste_2 = data_2[0:1000].T\n",
        "Y_test_2 = data_teste_2[0]\n",
        "X_test_2 = data_teste_2[1:n]\n",
        "X_test_2 = X_test_2 / 255.\n",
        "###################################\n",
        "\n",
        "#Conjunto 03\n",
        "data_3 = np.array(data)\n",
        "m, n = data_3.shape\n",
        "np.random.shuffle(data_3)\n",
        "\n",
        "data_teste_3 = data_3[0:1000].T\n",
        "Y_test_3 = data_teste_3[0]\n",
        "X_test_3 = data_teste_3[1:n]\n",
        "X_test_3 = X_test_3 / 255.\n",
        "###################################\n",
        "\n",
        "#Conjunto 04\n",
        "data_4 = np.array(data)\n",
        "m, n = data_4.shape\n",
        "np.random.shuffle(data_4)\n",
        "\n",
        "data_teste_4 = data_4[0:1000].T\n",
        "Y_test_4 = data_teste_4[0]\n",
        "X_test_4 = data_teste_4[1:n]\n",
        "X_test_4 = X_test_4 / 255.\n",
        "###################################\n",
        "\n",
        "#Conjunto 05\n",
        "data_5 = np.array(data)\n",
        "m, n = data_5.shape\n",
        "np.random.shuffle(data_5)\n",
        "\n",
        "data_teste_5 = data_5[0:1000].T\n",
        "Y_test_5 = data_teste_5[0]\n",
        "X_test_5 = data_teste_5[1:n]\n",
        "X_test_5 = X_test_5 / 255.\n"
      ],
      "execution_count": null,
      "outputs": []
    },
    {
      "cell_type": "code",
      "metadata": {
        "colab": {
          "base_uri": "https://localhost:8080/"
        },
        "id": "SlOMV1ytrDOC",
        "outputId": "56f10c0c-2717-4695-e8d0-cf3f96530041"
      },
      "source": [
        "#Impressão testes\n",
        "predicao_teste_1 = teste_real(X_test_1, peso1, bias1, peso2, bias2)\n",
        "acuracia_1_mpl = accuracy(predicao_teste_1, Y_test_1)\n",
        "print(\"Acurácia teste 01 MPL: \", acuracia_1_mpl)\n",
        "\n",
        "predicao_teste_2 = teste_real(X_test_2, peso1, bias1, peso2, bias2)\n",
        "acuracia_2_mpl = accuracy(predicao_teste_2, Y_test_2)\n",
        "print(\"Acurácia teste 02 MPL: \", acuracia_2_mpl)\n",
        "\n",
        "predicao_teste_3 = teste_real(X_test_3, peso1, bias1, peso2, bias2)\n",
        "acuracia_3_mpl = accuracy(predicao_teste_3, Y_test_3)\n",
        "print(\"Acurácia teste 03 MPL: \", acuracia_3_mpl)\n",
        "\n",
        "predicao_teste_4 = teste_real(X_test_4, peso1, bias1, peso2, bias2)\n",
        "acuracia_4_mpl = accuracy(predicao_teste_4, Y_test_4)\n",
        "print(\"Acurácia teste 04 MPL: \", acuracia_4_mpl)\n",
        "\n",
        "predicao_teste_5 = teste_real(X_test_5, peso1, bias1, peso2, bias2)\n",
        "acuracia_5_mpl = accuracy(predicao_teste_5, Y_test_5)\n",
        "print(\"Acurácia teste 05 MPL: \", acuracia_5_mpl)\n",
        "\n",
        "predicoes_testes_mpl = [acuracia_1_mpl, acuracia_2_mpl, acuracia_3_mpl, acuracia_4_mpl, acuracia_5_mpl]"
      ],
      "execution_count": null,
      "outputs": [
        {
          "output_type": "stream",
          "text": [
            "Acurácia teste 01 MPL:  0.898\n",
            "Acurácia teste 02 MPL:  0.904\n",
            "Acurácia teste 03 MPL:  0.907\n",
            "Acurácia teste 04 MPL:  0.894\n",
            "Acurácia teste 05 MPL:  0.904\n"
          ],
          "name": "stdout"
        }
      ]
    },
    {
      "cell_type": "code",
      "metadata": {
        "colab": {
          "base_uri": "https://localhost:8080/"
        },
        "id": "ZYmXYKvvszJ7",
        "outputId": "3b92f476-5f00-4392-e85f-283afb8806f9"
      },
      "source": [
        "#Média e desvio padrão MPL\n",
        "\n",
        "print(\"Média testes MPL:\", np.mean(predicoes_testes_mpl))\n",
        "\n",
        "print(\"Média testes MPL:\", np.std(predicoes_testes_mpl))"
      ],
      "execution_count": null,
      "outputs": [
        {
          "output_type": "stream",
          "text": [
            "Média testes MPL: 0.9014000000000001\n",
            "Média testes MPL: 0.004715930449020642\n"
          ],
          "name": "stdout"
        }
      ]
    },
    {
      "cell_type": "markdown",
      "metadata": {
        "id": "Cbib090tdnY-"
      },
      "source": [
        "#KNN"
      ]
    },
    {
      "cell_type": "code",
      "metadata": {
        "id": "i1poq57t96AI"
      },
      "source": [
        "#######################################\n",
        "#KNN\n",
        "#######################################\n",
        "import numpy as np\n",
        "import operator \n",
        "from operator import itemgetter\n",
        "from sklearn.datasets import load_digits\n",
        "from sklearn.model_selection import train_test_split\n",
        "from sklearn.metrics import precision_recall_fscore_support\n",
        "from sklearn.metrics import accuracy_score\n",
        "\n",
        "\n",
        "#importar o dataset\n",
        "mnist = load_digits()\n",
        "\n",
        "x = mnist.data \n",
        "y = mnist.target"
      ],
      "execution_count": null,
      "outputs": []
    },
    {
      "cell_type": "code",
      "metadata": {
        "id": "VyuQAVwt-RfL"
      },
      "source": [
        "#separar o dataset\n",
        "\n",
        "x_train, x_test, y_train, y_test = train_test_split(x, y, test_size=0.25, random_state=123)\n",
        "\n",
        "#5 amostragens\n",
        "x_train_1, x_test_1, y_train_1, y_test_1 = train_test_split(x, y, test_size=0.25)\n",
        "x_train_2, x_test_2, y_train_2, y_test_2 = train_test_split(x, y, test_size=0.25)\n",
        "x_train_3, x_test_3, y_train_3, y_test_3 = train_test_split(x, y, test_size=0.25)\n",
        "x_train_4, x_test_4, y_train_4, y_test_4 = train_test_split(x, y, test_size=0.25)\n",
        "x_train_5, x_test_5, y_train_5, y_test_5 = train_test_split(x, y, test_size=0.25)"
      ],
      "execution_count": null,
      "outputs": []
    },
    {
      "cell_type": "code",
      "metadata": {
        "id": "FQYIRSYPYEb2"
      },
      "source": [
        "#função para retornar a distancia euclidiana de dois pontos\n",
        "def dist_eucli(x1, x2):\n",
        "  return np.sqrt(np.sum((x1-x2)**2))\n",
        "\n",
        "#CLASSE KNN\n",
        "\n",
        "class KNN:\n",
        "  def __init__(self, K = 3):\n",
        "    self.K = K\n",
        "\n",
        "  #função que inicializa instâncias para ajustar nosso conjunto de treinamento.\n",
        "  def fit(self, x_train, y_train):\n",
        "    self.x_train = x_train\n",
        "    self.y_train = y_train\n",
        "\n",
        "  #função para predizer, utilizará o conjunto de teste\n",
        "  def predicao(self, X_test):\n",
        "    predicoes = [] \n",
        "    for i in range(len(X_test)):\n",
        "        dist = np.array([dist_eucli(X_test[i], x_t) for x_t in   \n",
        "        self.x_train])\n",
        "        dist_sorted = dist.argsort()[:self.K]\n",
        "        neigh_count = {}\n",
        "        for idx in dist_sorted:\n",
        "            if self.y_train[idx] in neigh_count:\n",
        "                neigh_count[self.y_train[idx]] += 1\n",
        "            else:\n",
        "                neigh_count[self.y_train[idx]] = 1\n",
        "        sorted_neigh_count = sorted(neigh_count.items(),    \n",
        "        key=operator.itemgetter(1), reverse=True)\n",
        "        predicoes.append(sorted_neigh_count[0][0]) \n",
        "    return predicoes "
      ],
      "execution_count": null,
      "outputs": []
    },
    {
      "cell_type": "code",
      "metadata": {
        "id": "EPOJKVi9-qA9",
        "colab": {
          "base_uri": "https://localhost:8080/"
        },
        "outputId": "4fc6d455-6634-4c6c-e325-7fbcd7067468"
      },
      "source": [
        "#treinar o modelo em todos os valores K possíveis de 3 a 100\n",
        "\n",
        "valores_K = np.arange(3, 100 ,1)\n",
        "accuracy = []\n",
        "for k in valores_K:\n",
        "  model = KNN(K = k)\n",
        "  model.fit(x_train, y_train)\n",
        "  pred = model.predicao(x_test)\n",
        "  acc = accuracy_score(y_test, pred)\n",
        "  accuracy.append(acc)\n",
        "  print(\"K = \"+str(k)+\"; Accuracy: \"+str(acc))"
      ],
      "execution_count": null,
      "outputs": [
        {
          "output_type": "stream",
          "text": [
            "K = 3; Accuracy: 0.9755555555555555\n",
            "K = 4; Accuracy: 0.9755555555555555\n",
            "K = 5; Accuracy: 0.9755555555555555\n",
            "K = 6; Accuracy: 0.9755555555555555\n",
            "K = 7; Accuracy: 0.9755555555555555\n",
            "K = 8; Accuracy: 0.9777777777777777\n",
            "K = 9; Accuracy: 0.9755555555555555\n",
            "K = 10; Accuracy: 0.9777777777777777\n",
            "K = 11; Accuracy: 0.9733333333333334\n",
            "K = 12; Accuracy: 0.9733333333333334\n",
            "K = 13; Accuracy: 0.9711111111111111\n",
            "K = 14; Accuracy: 0.9733333333333334\n",
            "K = 15; Accuracy: 0.9688888888888889\n",
            "K = 16; Accuracy: 0.9733333333333334\n",
            "K = 17; Accuracy: 0.9666666666666667\n",
            "K = 18; Accuracy: 0.9711111111111111\n",
            "K = 19; Accuracy: 0.9666666666666667\n",
            "K = 20; Accuracy: 0.9666666666666667\n",
            "K = 21; Accuracy: 0.9666666666666667\n",
            "K = 22; Accuracy: 0.9688888888888889\n",
            "K = 23; Accuracy: 0.9644444444444444\n",
            "K = 24; Accuracy: 0.9644444444444444\n",
            "K = 25; Accuracy: 0.9644444444444444\n",
            "K = 26; Accuracy: 0.9644444444444444\n",
            "K = 27; Accuracy: 0.9666666666666667\n",
            "K = 28; Accuracy: 0.9644444444444444\n",
            "K = 29; Accuracy: 0.9622222222222222\n",
            "K = 30; Accuracy: 0.96\n",
            "K = 31; Accuracy: 0.96\n",
            "K = 32; Accuracy: 0.96\n",
            "K = 33; Accuracy: 0.96\n",
            "K = 34; Accuracy: 0.9577777777777777\n",
            "K = 35; Accuracy: 0.9577777777777777\n",
            "K = 36; Accuracy: 0.9577777777777777\n",
            "K = 37; Accuracy: 0.9577777777777777\n",
            "K = 38; Accuracy: 0.9577777777777777\n",
            "K = 39; Accuracy: 0.9577777777777777\n",
            "K = 40; Accuracy: 0.9577777777777777\n",
            "K = 41; Accuracy: 0.9555555555555556\n",
            "K = 42; Accuracy: 0.9533333333333334\n",
            "K = 43; Accuracy: 0.9511111111111111\n",
            "K = 44; Accuracy: 0.9488888888888889\n",
            "K = 45; Accuracy: 0.9488888888888889\n",
            "K = 46; Accuracy: 0.9488888888888889\n",
            "K = 47; Accuracy: 0.9444444444444444\n",
            "K = 48; Accuracy: 0.9444444444444444\n",
            "K = 49; Accuracy: 0.9444444444444444\n",
            "K = 50; Accuracy: 0.9377777777777778\n",
            "K = 51; Accuracy: 0.9377777777777778\n",
            "K = 52; Accuracy: 0.9355555555555556\n",
            "K = 53; Accuracy: 0.9355555555555556\n",
            "K = 54; Accuracy: 0.9355555555555556\n",
            "K = 55; Accuracy: 0.9333333333333333\n",
            "K = 56; Accuracy: 0.9333333333333333\n",
            "K = 57; Accuracy: 0.9333333333333333\n",
            "K = 58; Accuracy: 0.9355555555555556\n",
            "K = 59; Accuracy: 0.9311111111111111\n",
            "K = 60; Accuracy: 0.9311111111111111\n",
            "K = 61; Accuracy: 0.9333333333333333\n",
            "K = 62; Accuracy: 0.9333333333333333\n",
            "K = 63; Accuracy: 0.9333333333333333\n",
            "K = 64; Accuracy: 0.9333333333333333\n",
            "K = 65; Accuracy: 0.9311111111111111\n",
            "K = 66; Accuracy: 0.9311111111111111\n",
            "K = 67; Accuracy: 0.9288888888888889\n",
            "K = 68; Accuracy: 0.9288888888888889\n",
            "K = 69; Accuracy: 0.9266666666666666\n",
            "K = 70; Accuracy: 0.9288888888888889\n",
            "K = 71; Accuracy: 0.9288888888888889\n",
            "K = 72; Accuracy: 0.9311111111111111\n",
            "K = 73; Accuracy: 0.9311111111111111\n",
            "K = 74; Accuracy: 0.9288888888888889\n",
            "K = 75; Accuracy: 0.9288888888888889\n",
            "K = 76; Accuracy: 0.9311111111111111\n",
            "K = 77; Accuracy: 0.9266666666666666\n",
            "K = 78; Accuracy: 0.9222222222222223\n",
            "K = 79; Accuracy: 0.92\n",
            "K = 80; Accuracy: 0.9222222222222223\n",
            "K = 81; Accuracy: 0.9222222222222223\n",
            "K = 82; Accuracy: 0.9222222222222223\n",
            "K = 83; Accuracy: 0.9222222222222223\n",
            "K = 84; Accuracy: 0.9177777777777778\n",
            "K = 85; Accuracy: 0.92\n",
            "K = 86; Accuracy: 0.92\n",
            "K = 87; Accuracy: 0.9177777777777778\n",
            "K = 88; Accuracy: 0.9177777777777778\n",
            "K = 89; Accuracy: 0.9177777777777778\n",
            "K = 90; Accuracy: 0.9111111111111111\n",
            "K = 91; Accuracy: 0.9111111111111111\n",
            "K = 92; Accuracy: 0.9088888888888889\n",
            "K = 93; Accuracy: 0.9111111111111111\n",
            "K = 94; Accuracy: 0.9088888888888889\n",
            "K = 95; Accuracy: 0.9088888888888889\n",
            "K = 96; Accuracy: 0.9088888888888889\n",
            "K = 97; Accuracy: 0.9088888888888889\n",
            "K = 98; Accuracy: 0.9066666666666666\n",
            "K = 99; Accuracy: 0.9066666666666666\n"
          ],
          "name": "stdout"
        }
      ]
    },
    {
      "cell_type": "code",
      "metadata": {
        "colab": {
          "base_uri": "https://localhost:8080/"
        },
        "id": "ylCXrJC0FegQ",
        "outputId": "f66da294-a19b-4e62-9515-1aa64ca43834"
      },
      "source": [
        "#recuperando o indice de maior valor de acurácia\n",
        "indice_maior_valor = accuracy.index(max(accuracy))\n",
        "print(indice_maior_valor)"
      ],
      "execution_count": null,
      "outputs": [
        {
          "output_type": "stream",
          "text": [
            "5\n"
          ],
          "name": "stdout"
        }
      ]
    },
    {
      "cell_type": "code",
      "metadata": {
        "colab": {
          "base_uri": "https://localhost:8080/"
        },
        "id": "8Gkw-vGgUCKr",
        "outputId": "72571d79-feac-43fd-989a-289f25e6a696"
      },
      "source": [
        "#realização do teste\n",
        "model = KNN(K = 5)\n",
        "model.fit(x_train, y_train)\n",
        "pred = model.predicao(x_test)\n",
        "acc = accuracy_score(y_test, pred)\n",
        "print(\"Acurácia do teste: \",  acc)"
      ],
      "execution_count": null,
      "outputs": [
        {
          "output_type": "stream",
          "text": [
            "Acurácia do teste:  0.9755555555555555\n"
          ],
          "name": "stdout"
        }
      ]
    },
    {
      "cell_type": "code",
      "metadata": {
        "colab": {
          "base_uri": "https://localhost:8080/"
        },
        "id": "e4oMu4Q1VJBR",
        "outputId": "e4c0fd96-550d-4768-e49e-1150a93d7a36"
      },
      "source": [
        "#teste com as 5 amostragens diferentes\n",
        "#x_treino = [x_train_1, x_train_2, x_train_3, x_train_4, x_train_5]\n",
        "#y_treino = [y_train_1, y_train_2, y_train_3, y_train_4, y_train_5]\n",
        "#x_teste = [x_test_1, x_test_2, x_test_3, x_test_4, x_test_5]\n",
        "#y_teste = [y_test_1, y_test_2, y_test_3, y_test_4, y_test_5]\n",
        "\n",
        "model.fit(x_train_1, y_train_1)\n",
        "pred = model.predicao(x_test_1)\n",
        "acc_1 = accuracy_score(y_test_1, pred)\n",
        "print(\"Acurácia do teste 1: \",  acc_1)\n",
        "\n",
        "model.fit(x_train_2, y_train_2)\n",
        "pred = model.predicao(x_test_2)\n",
        "acc_2 = accuracy_score(y_test_2, pred)\n",
        "print(\"Acurácia do teste 2: \",  acc_2)\n",
        "\n",
        "model.fit(x_train_3, y_train_3)\n",
        "pred = model.predicao(x_test_3)\n",
        "acc_3 = accuracy_score(y_test_3, pred)\n",
        "print(\"Acurácia do teste 3: \",  acc_3)\n",
        "\n",
        "model.fit(x_train_4, y_train_4)\n",
        "pred = model.predicao(x_test_4)\n",
        "acc_4 = accuracy_score(y_test_4, pred)\n",
        "print(\"Acurácia do teste 4: \",  acc_4)\n",
        "\n",
        "model.fit(x_train_5, y_train_5)\n",
        "pred = model.predicao(x_test_5)\n",
        "acc_5 = accuracy_score(y_test_5, pred)\n",
        "print(\"Acurácia do teste 5: \",  acc_5)"
      ],
      "execution_count": null,
      "outputs": [
        {
          "output_type": "stream",
          "text": [
            "Acurácia do teste 1:  0.9888888888888889\n",
            "Acurácia do teste 2:  0.9866666666666667\n",
            "Acurácia do teste 3:  0.98\n",
            "Acurácia do teste 4:  0.9888888888888889\n",
            "Acurácia do teste 5:  0.9822222222222222\n"
          ],
          "name": "stdout"
        }
      ]
    },
    {
      "cell_type": "code",
      "metadata": {
        "colab": {
          "base_uri": "https://localhost:8080/"
        },
        "id": "KFRfbIvLYUoJ",
        "outputId": "ebb951aa-20ff-4bc0-df43-394ff8a77e00"
      },
      "source": [
        "#média e desvio padrão da acurácia do KNN\n",
        "\n",
        "media_knn = (acc_1 + acc_2 + acc_3 + acc_4 + acc_5) / 5\n",
        "print(\"Média acurácia KNN:\", media_knn)\n",
        "\n",
        "acuracias_knn = [acc_1, acc_2, acc_3, acc_4, acc_5]\n",
        "desvio_padrao_knn = np.std(acuracias_knn)\n",
        "print(\"Desvio padrão KNN: \", desvio_padrao_knn)"
      ],
      "execution_count": null,
      "outputs": [
        {
          "output_type": "stream",
          "text": [
            "Média acurácia KNN: 0.9853333333333334\n",
            "Desvio padrão KNN:  0.0036106837353937836\n"
          ],
          "name": "stdout"
        }
      ]
    },
    {
      "cell_type": "markdown",
      "metadata": {
        "id": "WCnZNzZNduJM"
      },
      "source": [
        "#DECISION TREE"
      ]
    },
    {
      "cell_type": "code",
      "metadata": {
        "id": "8qS4p13Gdwna"
      },
      "source": [
        "#importar os dados\n",
        "data_DT = pd.read_csv('/content/drive/MyDrive/Colab Notebooks/MLP/train.csv')"
      ],
      "execution_count": null,
      "outputs": []
    },
    {
      "cell_type": "code",
      "metadata": {
        "id": "1hHXSJ5dGIRq"
      },
      "source": [
        "#separar teste e treino\n",
        "\n",
        "x = data_DT.iloc[:,1:]\n",
        "y = data_DT.iloc[:,0]\n",
        "\n",
        "x_train_dt, x_test_dt, y_train_dt, y_test_dt = train_test_split(x, y, test_size = 0.2)"
      ],
      "execution_count": null,
      "outputs": []
    },
    {
      "cell_type": "code",
      "metadata": {
        "id": "cIjGTEUyHxFL",
        "colab": {
          "base_uri": "https://localhost:8080/"
        },
        "outputId": "949aebd9-825b-44a2-e248-0cdaee86a565"
      },
      "source": [
        "#Arvore de decisão\n",
        "\n",
        "from sklearn.tree import DecisionTreeClassifier \n",
        "from sklearn.metrics import confusion_matrix\n",
        "import seaborn as sn\n",
        "from sklearn.model_selection import cross_val_predict\n",
        "\n",
        "arvore = DecisionTreeClassifier()\n",
        "\n",
        "arvore.fit(x_train_dt , y_train_dt)"
      ],
      "execution_count": null,
      "outputs": [
        {
          "output_type": "execute_result",
          "data": {
            "text/plain": [
              "DecisionTreeClassifier(ccp_alpha=0.0, class_weight=None, criterion='gini',\n",
              "                       max_depth=None, max_features=None, max_leaf_nodes=None,\n",
              "                       min_impurity_decrease=0.0, min_impurity_split=None,\n",
              "                       min_samples_leaf=1, min_samples_split=2,\n",
              "                       min_weight_fraction_leaf=0.0, presort='deprecated',\n",
              "                       random_state=None, splitter='best')"
            ]
          },
          "metadata": {
            "tags": []
          },
          "execution_count": 22
        }
      ]
    },
    {
      "cell_type": "code",
      "metadata": {
        "id": "4lphLYykNHFA"
      },
      "source": [
        "#predição para matriz\n",
        "y_train_pred = cross_val_predict(arvore, x_train_dt, y_train_dt, cv=3)"
      ],
      "execution_count": null,
      "outputs": []
    },
    {
      "cell_type": "code",
      "metadata": {
        "colab": {
          "base_uri": "https://localhost:8080/",
          "height": 461
        },
        "id": "fAKxjK2UIYVf",
        "outputId": "9dcdad31-4f03-4bb5-c182-cfd522adf8fc"
      },
      "source": [
        "#Matriz de confusão para facilitar a visualização da acuracia\n",
        "\n",
        "cmrforest = confusion_matrix(y_train_dt, y_train_pred)\n",
        "\n",
        "plt.figure(figsize=(10,7))\n",
        "sn.heatmap(cmrforest ,annot=True , fmt = 'd')\n",
        "plt.xlabel('Predicted')\n",
        "plt.ylabel('Truth')\n",
        "arvore.score(x_test_dt, y_test_dt)"
      ],
      "execution_count": null,
      "outputs": [
        {
          "output_type": "execute_result",
          "data": {
            "text/plain": [
              "0.8614285714285714"
            ]
          },
          "metadata": {
            "tags": []
          },
          "execution_count": 24
        },
        {
          "output_type": "display_data",
          "data": {
            "image/png": "[encoded data removed]",
            "text/plain": [
              "<Figure size 720x504 with 2 Axes>"
            ]
          },
          "metadata": {
            "tags": [],
            "needs_background": "light"
          }
        }
      ]
    },
    {
      "cell_type": "code",
      "metadata": {
        "id": "ob_LVuPyOmNM"
      },
      "source": [
        "#Separar as 5 amostragens\n",
        "\n",
        "\n",
        "x_amostragens = data_DT.iloc[:,1:]\n",
        "y_amostragens = data_DT.iloc[:,0]\n",
        "\n",
        "x_train_dt_1, x_test_dt_1, y_train_dt_1, y_test_dt_1 = train_test_split(x_amostragens, y_amostragens, test_size = 0.2)\n",
        "x_train_dt_2, x_test_dt_2, y_train_dt_2, y_test_dt_2 = train_test_split(x_amostragens, y_amostragens, test_size = 0.2)\n",
        "x_train_dt_3, x_test_dt_3, y_train_dt_3, y_test_dt_3 = train_test_split(x_amostragens, y_amostragens, test_size = 0.2)\n",
        "x_train_dt_4, x_test_dt_4, y_train_dt_4, y_test_dt_4 = train_test_split(x_amostragens, y_amostragens, test_size = 0.2)\n",
        "x_train_dt_5, x_test_dt_5, y_train_dt_5, y_test_dt_5 = train_test_split(x_amostragens, y_amostragens, test_size = 0.2)"
      ],
      "execution_count": null,
      "outputs": []
    },
    {
      "cell_type": "code",
      "metadata": {
        "id": "CNqdRZaoq5Oe"
      },
      "source": [
        "#treinamento arvore com as amostragens\n",
        "\n",
        "treino_1 = arvore.fit(x_train_dt_1, y_train_dt_1)\n",
        "treino_2 = arvore.fit(x_train_dt_2, y_train_dt_2)\n",
        "treino_3 = arvore.fit(x_train_dt_3, y_train_dt_3)\n",
        "treino_4 = arvore.fit(x_train_dt_4, y_train_dt_4)\n",
        "treino_5 = arvore.fit(x_train_dt_5, y_train_dt_5)"
      ],
      "execution_count": null,
      "outputs": []
    },
    {
      "cell_type": "code",
      "metadata": {
        "colab": {
          "base_uri": "https://localhost:8080/"
        },
        "id": "6S8zMEx-rvwx",
        "outputId": "3d97f7e7-f7df-4ea7-f0df-069f3b655bb2"
      },
      "source": [
        "#acurácia dos testes da arvore\n",
        "\n",
        "acuracia_1 = treino_1.score(x_test_dt_1, y_test_dt_1)\n",
        "acuracia_2 = treino_2.score(x_test_dt_2, y_test_dt_2)\n",
        "acuracia_3 = treino_3.score(x_test_dt_3, y_test_dt_3)\n",
        "acuracia_4 = treino_4.score(x_test_dt_4, y_test_dt_4)\n",
        "acuracia_5 = treino_5.score(x_test_dt_5, y_test_dt_5)\n",
        "\n",
        "acuracia_geral = [acuracia_1, acuracia_2, acuracia_3, acuracia_4, acuracia_5]\n",
        "\n",
        "print(\"Acurácia 1: \", acuracia_1)\n",
        "print(\"Acurácia 2: \", acuracia_2)\n",
        "print(\"Acurácia 3: \", acuracia_3)\n",
        "print(\"Acurácia 4: \", acuracia_4)\n",
        "print(\"Acurácia 5: \", acuracia_5)\n",
        "print(\"\\n\")\n",
        "\n",
        "#media e desvio padrão da DTC\n",
        "media = (acuracia_1 + acuracia_2 + acuracia_3 + acuracia_4 + acuracia_5) / 5\n",
        "print(\"Média acurácia DTC:\", media)\n",
        "\n",
        "\n",
        "desvio_padrao_dtc = np.std(acuracia_geral)\n",
        "print(\"Desvio padrão DTC: \", desvio_padrao_dtc)"
      ],
      "execution_count": null,
      "outputs": [
        {
          "output_type": "stream",
          "text": [
            "Acurácia 1:  0.9741666666666666\n",
            "Acurácia 2:  0.9727380952380953\n",
            "Acurácia 3:  0.9682142857142857\n",
            "Acurácia 4:  0.9720238095238095\n",
            "Acurácia 5:  0.8526190476190476\n",
            "\n",
            "\n",
            "Média acurácia DTC: 0.9479523809523809\n",
            "Desvio padrão DTC:  0.04770732294031514\n"
          ],
          "name": "stdout"
        }
      ]
    },
    {
      "cell_type": "markdown",
      "metadata": {
        "id": "AzhwGhv3hzqH"
      },
      "source": [
        "#Comparação das médias e desvios\n",
        "\n",
        "**MÉDIAS:**\n",
        "\n",
        "**Média acurácia KNN:** 0.985\n",
        "\n",
        "**Média acurácia DTC:** 0.945\n",
        "\n",
        "**Média acurácia MPL:** 0.921\n",
        "\n",
        "**DESVIO PADRÃO:**\n",
        "\n",
        "**Desvio padrão KNN:**  0.004\n",
        "\n",
        "**Desvio padrão DTC:**  0.047\n",
        "\n",
        "**Desvio padrão MPL:**  0.004\n",
        "\n",
        "#**VALORES PODEM ALTERAR, JÁ QUE A CADA EXECUÇÃO OS DATASETS SÃO RANDOMIZADOS**"
      ]
    },
    {
      "cell_type": "code",
      "metadata": {
        "id": "VKgw6XYGh7Aw"
      },
      "source": [
        ""
      ],
      "execution_count": null,
      "outputs": []
    }
  ]
}